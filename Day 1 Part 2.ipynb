{
 "cells": [
  {
   "cell_type": "code",
   "execution_count": 6,
   "id": "7292dc4b-6782-4550-b8bf-f21bcd480da8",
   "metadata": {},
   "outputs": [
    {
     "name": "stdout",
     "output_type": "stream",
     "text": [
      "69836 69796 68336 67791\n",
      "207968\n"
     ]
    }
   ],
   "source": [
    "elfnumber=1\n",
    "calories=0\n",
    "elflist=[]\n",
    "\n",
    "with open('Day1Input.txt') as file:\n",
    "    for line in file:\n",
    "        if line.rstrip().isdigit() :        #is true if the line contains only numbers\n",
    "            calories=calories+int(line)   #We need to force the program to look at the line as an integer instead of plain text and total up the calories\n",
    "        if line.rstrip()==\"\":               #is true if the line is blank\n",
    "            elflist.append(calories)\n",
    "            calories=0\n",
    "        \n",
    "        \n",
    "    elflist.append(calories)   # Run this at the end so we don't miss the last elf (the last line isn't blank)\n",
    "\n",
    "elflist.sort(reverse=True)\n",
    "print(elflist[0],elflist[1],elflist[2],elflist[3])\n",
    "print(elflist[0]+elflist[1]+elflist[2])"
   ]
  }
 ],
 "metadata": {
  "kernelspec": {
   "display_name": "Python 3 (ipykernel)",
   "language": "python",
   "name": "python3"
  },
  "language_info": {
   "codemirror_mode": {
    "name": "ipython",
    "version": 3
   },
   "file_extension": ".py",
   "mimetype": "text/x-python",
   "name": "python",
   "nbconvert_exporter": "python",
   "pygments_lexer": "ipython3",
   "version": "3.10.6"
  }
 },
 "nbformat": 4,
 "nbformat_minor": 5
}
